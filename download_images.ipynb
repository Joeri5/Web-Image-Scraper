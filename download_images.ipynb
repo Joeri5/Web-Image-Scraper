{
  "nbformat": 4,
  "nbformat_minor": 0,
  "metadata": {
    "colab": {
      "provenance": [],
      "authorship_tag": "ABX9TyP4NJs+s/JaxFd/p7DJgyp4",
      "include_colab_link": true
    },
    "kernelspec": {
      "name": "python3",
      "display_name": "Python 3"
    },
    "language_info": {
      "name": "python"
    }
  },
  "cells": [
    {
      "cell_type": "markdown",
      "metadata": {
        "id": "view-in-github",
        "colab_type": "text"
      },
      "source": [
        "<a href=\"https://colab.research.google.com/github/Joeri5/Web-Image-Scraper/blob/main/download_images.ipynb\" target=\"_parent\"><img src=\"https://colab.research.google.com/assets/colab-badge.svg\" alt=\"Open In Colab\"/></a>"
      ]
    },
    {
      "cell_type": "code",
      "source": [
        "!apt-get update\n",
        "!apt-get install firefox -y\n",
        "!apt install -y wget\n",
        "!apt install -y unzip\n",
        "!pip install selenium\n",
        "\n",
        "# Download geckodriver\n",
        "!wget https://github.com/mozilla/geckodriver/releases/download/v0.30.0/geckodriver-v0.30.0-linux64.tar.gz\n",
        "!tar -xvzf geckodriver-v0.30.0-linux64.tar.gz\n",
        "\n",
        "# Move the geckodriver binary to /usr/bin\n",
        "!mv geckodriver /usr/bin/"
      ],
      "metadata": {
        "id": "to4yfhr_NRUW"
      },
      "execution_count": null,
      "outputs": []
    },
    {
      "cell_type": "code",
      "execution_count": null,
      "metadata": {
        "id": "O7i52QcFFNj-"
      },
      "outputs": [],
      "source": [
        "import requests\n",
        "import os\n",
        "from urllib.parse import urlparse, urljoin\n",
        "from selenium import webdriver\n",
        "from selenium.webdriver.common.by import By\n",
        "import time\n",
        "\n",
        "def download_images(url):\n",
        "    # Set up the Firefox driver and visit the URL\n",
        "    options = webdriver.FirefoxOptions()\n",
        "    options.add_argument(\"--headless\")  # Use headless mode to avoid opening a browser window\n",
        "    driver = webdriver.Firefox(options=options)\n",
        "    driver.get(url)\n",
        "\n",
        "    # Check for cookie popup and reject if it exists\n",
        "    try:\n",
        "        cookie_popup = driver.find_element(By.XPATH, \"//div[contains(@class, 'cookie')]\")\n",
        "        reject_button = cookie_popup.find_element(By.XPATH, \"//button[contains(text(), 'Reject') or contains(text(), 'Decline')]\")\n",
        "        reject_button.click()\n",
        "        time.sleep(2)  # Wait for the page to reload after rejecting cookies\n",
        "    except:\n",
        "        pass\n",
        "\n",
        "    # Wait for all content to load\n",
        "    time.sleep(5)  # You may need to adjust the wait time depending on the website\n",
        "\n",
        "    # Scroll to the bottom of the page\n",
        "    scroll_height = driver.execute_script(\"return document.body.scrollHeight;\")\n",
        "    current_position = 0\n",
        "    while current_position < scroll_height:\n",
        "        current_position += 1000  # Decrease the scroll speed by changing this value\n",
        "        driver.execute_script(f\"window.scrollTo(0, {current_position});\")\n",
        "        time.sleep(1)  # You may need to adjust the wait time depending on the website\n",
        "\n",
        "    # Create a directory to store the images\n",
        "    dir = 'images'\n",
        "    if not os.path.exists(dir):\n",
        "        os.makedirs(dir)\n",
        "\n",
        "    # Find all image tags and download the images\n",
        "    for img in driver.find_elements(By.TAG_NAME, \"img\"):\n",
        "        img_url = img.get_attribute(\"src\")\n",
        "        if img_url and (img_url.endswith(\".png\") or img_url.endswith(\".jpg\") or img_url.endswith(\".jpeg\") or img_url.endswith(\".svg\") or img_url.endswith(\".png\")):\n",
        "            img_url = urljoin(url, img_url)\n",
        "            print(f\"Downloading {img_url}...\")\n",
        "            img_response = requests.get(img_url)\n",
        "            filename = os.path.join(dir, os.path.basename(img_url))\n",
        "            with open(filename, \"wb\") as f:\n",
        "                f.write(img_response.content)\n",
        "                print(f\"Downloaded {filename}\")\n",
        "\n",
        "    # Quit the driver\n",
        "    driver.quit()\n",
        "    \n",
        "# Example usage:\n",
        "url = \"https://www.apple.com/nl/iphone-14/\"\n",
        "download_images(url)\n"
      ]
    },
    {
      "cell_type": "code",
      "source": [
        "import os\n",
        "import zipfile\n",
        "from google.colab import files\n",
        "\n",
        "# Create a new 'downloads' directory\n",
        "downloads_dir = '/content/downloads'\n",
        "if not os.path.exists(downloads_dir):\n",
        "    os.makedirs(downloads_dir)\n",
        "\n",
        "# Replace 'folder_name' with the name of the folder you want to zip\n",
        "folder_name = 'images'\n",
        "\n",
        "# Zip the folder\n",
        "zip_filename = f'{folder_name}.zip'\n",
        "zip_filepath = f'{downloads_dir}/{zip_filename}'\n",
        "with zipfile.ZipFile(zip_filepath, 'w', zipfile.ZIP_DEFLATED) as zip_file:\n",
        "    for root, dirs, files in os.walk(folder_name):\n",
        "        for file in files:\n",
        "            zip_file.write(os.path.join(root, file))"
      ],
      "metadata": {
        "id": "iDi14YSgMDdS"
      },
      "execution_count": null,
      "outputs": []
    }
  ]
}